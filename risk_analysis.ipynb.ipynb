{
 "cells": [
  {
   "cell_type": "code",
   "execution_count": 29,
   "id": "89209f92",
   "metadata": {},
   "outputs": [
    {
     "name": "stdout",
     "output_type": "stream",
     "text": [
      "<class 'pandas.core.frame.DataFrame'>\n",
      "RangeIndex: 918 entries, 0 to 917\n",
      "Data columns (total 12 columns):\n",
      " #   Column          Non-Null Count  Dtype  \n",
      "---  ------          --------------  -----  \n",
      " 0   Age             918 non-null    int64  \n",
      " 1   Sex             918 non-null    object \n",
      " 2   ChestPainType   918 non-null    object \n",
      " 3   RestingBP       918 non-null    int64  \n",
      " 4   Cholesterol     918 non-null    int64  \n",
      " 5   FastingBS       918 non-null    int64  \n",
      " 6   RestingECG      918 non-null    object \n",
      " 7   MaxHR           918 non-null    int64  \n",
      " 8   ExerciseAngina  918 non-null    object \n",
      " 9   Oldpeak         918 non-null    float64\n",
      " 10  ST_Slope        918 non-null    object \n",
      " 11  HeartDisease    918 non-null    int64  \n",
      "dtypes: float64(1), int64(6), object(5)\n",
      "memory usage: 86.2+ KB\n"
     ]
    }
   ],
   "source": [
    "import pandas as pd\n",
    "\n",
    "# Load the data\n",
    "df = pd.read_csv(\"heart (1).csv\")\n",
    "df.info()\n"
   ]
  },
  {
   "cell_type": "code",
   "execution_count": 30,
   "id": "4109c13a",
   "metadata": {},
   "outputs": [
    {
     "data": {
      "text/html": [
       "<style>#sk-container-id-4 {color: black;}#sk-container-id-4 pre{padding: 0;}#sk-container-id-4 div.sk-toggleable {background-color: white;}#sk-container-id-4 label.sk-toggleable__label {cursor: pointer;display: block;width: 100%;margin-bottom: 0;padding: 0.3em;box-sizing: border-box;text-align: center;}#sk-container-id-4 label.sk-toggleable__label-arrow:before {content: \"▸\";float: left;margin-right: 0.25em;color: #696969;}#sk-container-id-4 label.sk-toggleable__label-arrow:hover:before {color: black;}#sk-container-id-4 div.sk-estimator:hover label.sk-toggleable__label-arrow:before {color: black;}#sk-container-id-4 div.sk-toggleable__content {max-height: 0;max-width: 0;overflow: hidden;text-align: left;background-color: #f0f8ff;}#sk-container-id-4 div.sk-toggleable__content pre {margin: 0.2em;color: black;border-radius: 0.25em;background-color: #f0f8ff;}#sk-container-id-4 input.sk-toggleable__control:checked~div.sk-toggleable__content {max-height: 200px;max-width: 100%;overflow: auto;}#sk-container-id-4 input.sk-toggleable__control:checked~label.sk-toggleable__label-arrow:before {content: \"▾\";}#sk-container-id-4 div.sk-estimator input.sk-toggleable__control:checked~label.sk-toggleable__label {background-color: #d4ebff;}#sk-container-id-4 div.sk-label input.sk-toggleable__control:checked~label.sk-toggleable__label {background-color: #d4ebff;}#sk-container-id-4 input.sk-hidden--visually {border: 0;clip: rect(1px 1px 1px 1px);clip: rect(1px, 1px, 1px, 1px);height: 1px;margin: -1px;overflow: hidden;padding: 0;position: absolute;width: 1px;}#sk-container-id-4 div.sk-estimator {font-family: monospace;background-color: #f0f8ff;border: 1px dotted black;border-radius: 0.25em;box-sizing: border-box;margin-bottom: 0.5em;}#sk-container-id-4 div.sk-estimator:hover {background-color: #d4ebff;}#sk-container-id-4 div.sk-parallel-item::after {content: \"\";width: 100%;border-bottom: 1px solid gray;flex-grow: 1;}#sk-container-id-4 div.sk-label:hover label.sk-toggleable__label {background-color: #d4ebff;}#sk-container-id-4 div.sk-serial::before {content: \"\";position: absolute;border-left: 1px solid gray;box-sizing: border-box;top: 0;bottom: 0;left: 50%;z-index: 0;}#sk-container-id-4 div.sk-serial {display: flex;flex-direction: column;align-items: center;background-color: white;padding-right: 0.2em;padding-left: 0.2em;position: relative;}#sk-container-id-4 div.sk-item {position: relative;z-index: 1;}#sk-container-id-4 div.sk-parallel {display: flex;align-items: stretch;justify-content: center;background-color: white;position: relative;}#sk-container-id-4 div.sk-item::before, #sk-container-id-4 div.sk-parallel-item::before {content: \"\";position: absolute;border-left: 1px solid gray;box-sizing: border-box;top: 0;bottom: 0;left: 50%;z-index: -1;}#sk-container-id-4 div.sk-parallel-item {display: flex;flex-direction: column;z-index: 1;position: relative;background-color: white;}#sk-container-id-4 div.sk-parallel-item:first-child::after {align-self: flex-end;width: 50%;}#sk-container-id-4 div.sk-parallel-item:last-child::after {align-self: flex-start;width: 50%;}#sk-container-id-4 div.sk-parallel-item:only-child::after {width: 0;}#sk-container-id-4 div.sk-dashed-wrapped {border: 1px dashed gray;margin: 0 0.4em 0.5em 0.4em;box-sizing: border-box;padding-bottom: 0.4em;background-color: white;}#sk-container-id-4 div.sk-label label {font-family: monospace;font-weight: bold;display: inline-block;line-height: 1.2em;}#sk-container-id-4 div.sk-label-container {text-align: center;}#sk-container-id-4 div.sk-container {/* jupyter's `normalize.less` sets `[hidden] { display: none; }` but bootstrap.min.css set `[hidden] { display: none !important; }` so we also need the `!important` here to be able to override the default hidden behavior on the sphinx rendered scikit-learn.org. See: https://github.com/scikit-learn/scikit-learn/issues/21755 */display: inline-block !important;position: relative;}#sk-container-id-4 div.sk-text-repr-fallback {display: none;}</style><div id=\"sk-container-id-4\" class=\"sk-top-container\"><div class=\"sk-text-repr-fallback\"><pre>ColumnTransformer(transformers=[(&#x27;num&#x27;, StandardScaler(),\n",
       "                                 [&#x27;Age&#x27;, &#x27;RestingBP&#x27;, &#x27;Cholesterol&#x27;, &#x27;MaxHR&#x27;,\n",
       "                                  &#x27;Oldpeak&#x27;]),\n",
       "                                (&#x27;cat&#x27;, OneHotEncoder(drop=&#x27;first&#x27;),\n",
       "                                 [&#x27;Sex&#x27;, &#x27;ChestPainType&#x27;, &#x27;RestingECG&#x27;,\n",
       "                                  &#x27;ExerciseAngina&#x27;, &#x27;ST_Slope&#x27;])])</pre><b>In a Jupyter environment, please rerun this cell to show the HTML representation or trust the notebook. <br />On GitHub, the HTML representation is unable to render, please try loading this page with nbviewer.org.</b></div><div class=\"sk-container\" hidden><div class=\"sk-item sk-dashed-wrapped\"><div class=\"sk-label-container\"><div class=\"sk-label sk-toggleable\"><input class=\"sk-toggleable__control sk-hidden--visually\" id=\"sk-estimator-id-4\" type=\"checkbox\" ><label for=\"sk-estimator-id-4\" class=\"sk-toggleable__label sk-toggleable__label-arrow\">ColumnTransformer</label><div class=\"sk-toggleable__content\"><pre>ColumnTransformer(transformers=[(&#x27;num&#x27;, StandardScaler(),\n",
       "                                 [&#x27;Age&#x27;, &#x27;RestingBP&#x27;, &#x27;Cholesterol&#x27;, &#x27;MaxHR&#x27;,\n",
       "                                  &#x27;Oldpeak&#x27;]),\n",
       "                                (&#x27;cat&#x27;, OneHotEncoder(drop=&#x27;first&#x27;),\n",
       "                                 [&#x27;Sex&#x27;, &#x27;ChestPainType&#x27;, &#x27;RestingECG&#x27;,\n",
       "                                  &#x27;ExerciseAngina&#x27;, &#x27;ST_Slope&#x27;])])</pre></div></div></div><div class=\"sk-parallel\"><div class=\"sk-parallel-item\"><div class=\"sk-item\"><div class=\"sk-label-container\"><div class=\"sk-label sk-toggleable\"><input class=\"sk-toggleable__control sk-hidden--visually\" id=\"sk-estimator-id-5\" type=\"checkbox\" ><label for=\"sk-estimator-id-5\" class=\"sk-toggleable__label sk-toggleable__label-arrow\">num</label><div class=\"sk-toggleable__content\"><pre>[&#x27;Age&#x27;, &#x27;RestingBP&#x27;, &#x27;Cholesterol&#x27;, &#x27;MaxHR&#x27;, &#x27;Oldpeak&#x27;]</pre></div></div></div><div class=\"sk-serial\"><div class=\"sk-item\"><div class=\"sk-estimator sk-toggleable\"><input class=\"sk-toggleable__control sk-hidden--visually\" id=\"sk-estimator-id-6\" type=\"checkbox\" ><label for=\"sk-estimator-id-6\" class=\"sk-toggleable__label sk-toggleable__label-arrow\">StandardScaler</label><div class=\"sk-toggleable__content\"><pre>StandardScaler()</pre></div></div></div></div></div></div><div class=\"sk-parallel-item\"><div class=\"sk-item\"><div class=\"sk-label-container\"><div class=\"sk-label sk-toggleable\"><input class=\"sk-toggleable__control sk-hidden--visually\" id=\"sk-estimator-id-7\" type=\"checkbox\" ><label for=\"sk-estimator-id-7\" class=\"sk-toggleable__label sk-toggleable__label-arrow\">cat</label><div class=\"sk-toggleable__content\"><pre>[&#x27;Sex&#x27;, &#x27;ChestPainType&#x27;, &#x27;RestingECG&#x27;, &#x27;ExerciseAngina&#x27;, &#x27;ST_Slope&#x27;]</pre></div></div></div><div class=\"sk-serial\"><div class=\"sk-item\"><div class=\"sk-estimator sk-toggleable\"><input class=\"sk-toggleable__control sk-hidden--visually\" id=\"sk-estimator-id-8\" type=\"checkbox\" ><label for=\"sk-estimator-id-8\" class=\"sk-toggleable__label sk-toggleable__label-arrow\">OneHotEncoder</label><div class=\"sk-toggleable__content\"><pre>OneHotEncoder(drop=&#x27;first&#x27;)</pre></div></div></div></div></div></div></div></div></div></div>"
      ],
      "text/plain": [
       "ColumnTransformer(transformers=[('num', StandardScaler(),\n",
       "                                 ['Age', 'RestingBP', 'Cholesterol', 'MaxHR',\n",
       "                                  'Oldpeak']),\n",
       "                                ('cat', OneHotEncoder(drop='first'),\n",
       "                                 ['Sex', 'ChestPainType', 'RestingECG',\n",
       "                                  'ExerciseAngina', 'ST_Slope'])])"
      ]
     },
     "execution_count": 30,
     "metadata": {},
     "output_type": "execute_result"
    }
   ],
   "source": [
    "from sklearn.compose import ColumnTransformer\n",
    "from sklearn.preprocessing import StandardScaler, OneHotEncoder\n",
    "\n",
    "# Separate target from features\n",
    "y = df[\"HeartDisease\"]\n",
    "df = df.drop(\"HeartDisease\", axis=1)\n",
    "\n",
    "# Define columns that need to be standardized and encoded\n",
    "numeric_features = ['Age', 'RestingBP', 'Cholesterol', 'MaxHR', 'Oldpeak']\n",
    "categorical_features = ['Sex', 'ChestPainType', 'RestingECG', 'ExerciseAngina', 'ST_Slope']\n",
    "\n",
    "# Create the transformers\n",
    "transformers = [\n",
    "    ('num', StandardScaler(), numeric_features),\n",
    "    ('cat', OneHotEncoder(drop='first'), categorical_features)\n",
    "]\n",
    "\n",
    "# Instantiate and fit the column transformer\n",
    "column_transformer = ColumnTransformer(transformers)\n",
    "column_transformer.fit(df)\n"
   ]
  },
  {
   "cell_type": "code",
   "execution_count": 45,
   "id": "df7e835f",
   "metadata": {},
   "outputs": [],
   "source": [
    "from sklearn.linear_model import LogisticRegression\n",
    "from sklearn.ensemble import RandomForestClassifier, GradientBoostingClassifier\n",
    "from sklearn.pipeline import Pipeline\n",
    "\n",
    "# Define models\n",
    "log_reg = Pipeline([\n",
    "    ('preprocessor', column_transformer),\n",
    "    ('classifier', LogisticRegression())\n",
    "])\n",
    "\n",
    "rf_clf = Pipeline([\n",
    "    ('preprocessor', column_transformer),\n",
    "    ('classifier', RandomForestClassifier())\n",
    "])\n",
    "\n",
    "gb_clf = Pipeline([\n",
    "    ('preprocessor', column_transformer),\n",
    "    ('classifier', GradientBoostingClassifier())\n",
    "])\n",
    "\n",
    "# Train models\n",
    "log_reg.fit(df, y)\n",
    "rf_clf.fit(df, y)\n",
    "gb_clf.fit(df, y)\n",
    "\n",
    "models = {'Logistic Regression': log_reg, 'Random Forest': rf_clf, 'Gradient Boosting': gb_clf}\n"
   ]
  },
  {
   "cell_type": "code",
   "execution_count": 46,
   "id": "03a240da",
   "metadata": {},
   "outputs": [],
   "source": [
    "def compute_risk_score(input_data):\n",
    "    \"\"\"Compute the average risk score based on model predictions and provide a recommendation.\"\"\"\n",
    "    probabilities = []\n",
    "    \n",
    "    # Predict the probability of heart disease for each model\n",
    "    for name, model in models.items():\n",
    "        prob = model.predict_proba(input_data)[:, 1][0]\n",
    "        probabilities.append(prob)\n",
    "\n",
    "    # Compute the average risk score\n",
    "    average_risk = sum(probabilities) / len(probabilities) * 100\n",
    "    \n",
    "    # Provide a recommendation based on the risk score\n",
    "    if average_risk < 30:\n",
    "        recommendation = \"Low risk. Maintain a healthy lifestyle.\"\n",
    "        analysis = \"You have a low probability of heart disease based on the provided data. Continue with regular check-ups.\"\n",
    "    elif average_risk < 70:\n",
    "        recommendation = \"Moderate risk. Consult with your doctor.\"\n",
    "        analysis = \"You have a moderate probability of heart disease. It's recommended to consult with a healthcare professional.\"\n",
    "    else:\n",
    "        recommendation = \"High risk. Please see a cardiologist immediately.\"\n",
    "        analysis = \"You have a high probability of heart disease. Immediate medical attention is advised.\"\n",
    "\n",
    "    return average_risk, recommendation, analysis\n"
   ]
  },
  {
   "cell_type": "code",
   "execution_count": 47,
   "id": "25ad0db8",
   "metadata": {},
   "outputs": [
    {
     "data": {
      "application/vnd.jupyter.widget-view+json": {
       "model_id": "414d4c2a29684108a1034d9f2492cf10",
       "version_major": 2,
       "version_minor": 0
      },
      "text/plain": [
       "VBox(children=(IntSlider(value=50, description='Age:', min=20), Dropdown(description='Sex:', options=('M', 'F'…"
      ]
     },
     "execution_count": 47,
     "metadata": {},
     "output_type": "execute_result"
    }
   ],
   "source": [
    "import ipywidgets as widgets\n",
    "from IPython.display import display, clear_output\n",
    "\n",
    "# Define input widgets\n",
    "age_widget = widgets.IntSlider(value=50, min=20, max=100, description=\"Age:\")\n",
    "sex_widget = widgets.Dropdown(options=['M', 'F'], value='M', description=\"Sex:\")\n",
    "cp_widget = widgets.Dropdown(options=df[\"ChestPainType\"].unique(), description=\"Chest Pain Type:\")\n",
    "restbp_widget = widgets.IntSlider(value=120, min=80, max=200, description=\"Resting BP:\")\n",
    "chol_widget = widgets.IntSlider(value=200, min=100, max=400, description=\"Cholesterol:\")\n",
    "fbs_widget = widgets.IntSlider(value=1, min=0, max=1, description=\"Fasting Blood Sugar:\")\n",
    "restecg_widget = widgets.Dropdown(options=df[\"RestingECG\"].unique(), description=\"Resting ECG:\")\n",
    "maxhr_widget = widgets.IntSlider(value=150, min=50, max=220, description=\"Max Heart Rate:\")\n",
    "exang_widget = widgets.Dropdown(options=['Y', 'N'], value='N', description=\"Exercise Angina:\")\n",
    "oldpeak_widget = widgets.FloatSlider(value=1, min=0, max=5, step=0.1, description=\"Oldpeak:\")\n",
    "slope_widget = widgets.Dropdown(options=df[\"ST_Slope\"].unique(), description=\"ST Slope:\")\n",
    "\n",
    "compute_button = widgets.Button(description=\"Compute Risk\")\n",
    "output = widgets.Output()\n",
    "\n",
    "def on_compute_button_click(button):\n",
    "    \"\"\"Function to compute and display risk score, recommendation, and analysis when button is clicked.\"\"\"\n",
    "    # Gather input data\n",
    "    data = {\n",
    "        'Age': [age_widget.value],\n",
    "        'Sex': [sex_widget.value],\n",
    "        'ChestPainType': [cp_widget.value],\n",
    "        'RestingBP': [restbp_widget.value],\n",
    "        'Cholesterol': [chol_widget.value],\n",
    "        'FastingBS': [fbs_widget.value],\n",
    "        'RestingECG': [restecg_widget.value],\n",
    "        'MaxHR': [maxhr_widget.value],\n",
    "        'ExerciseAngina': [exang_widget.value],\n",
    "        'Oldpeak': [oldpeak_widget.value],\n",
    "        'ST_Slope': [slope_widget.value]\n",
    "    }\n",
    "    df = pd.DataFrame(data)\n",
    "\n",
    "    # Compute risk score, recommendation, and analysis\n",
    "    risk_score, recommendation, analysis = compute_risk_score(df)\n",
    "\n",
    "    with output:\n",
    "        clear_output(wait=True)\n",
    "        print(f\"Predicted Risk Score: {risk_score:.2f}%\")\n",
    "        print(\"\\nRecommendation:\", recommendation)\n",
    "        print(\"\\nAnalysis:\", analysis)\n",
    "compute_button.on_click(on_compute_button_click)\n",
    "\n",
    "# Display widgets\n",
    "widgets.VBox([\n",
    "    age_widget, sex_widget, cp_widget, restbp_widget, chol_widget,\n",
    "    fbs_widget, restecg_widget, maxhr_widget, exang_widget, oldpeak_widget,\n",
    "    slope_widget, compute_button, output\n",
    "])\n"
   ]
  },
  {
   "cell_type": "code",
   "execution_count": null,
   "id": "e8d00c7e",
   "metadata": {},
   "outputs": [],
   "source": []
  }
 ],
 "metadata": {
  "kernelspec": {
   "display_name": "env",
   "language": "python",
   "name": "env"
  },
  "language_info": {
   "codemirror_mode": {
    "name": "ipython",
    "version": 3
   },
   "file_extension": ".py",
   "mimetype": "text/x-python",
   "name": "python",
   "nbconvert_exporter": "python",
   "pygments_lexer": "ipython3",
   "version": "3.11.4"
  }
 },
 "nbformat": 4,
 "nbformat_minor": 5
}
